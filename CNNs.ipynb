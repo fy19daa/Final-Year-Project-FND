{
  "nbformat": 4,
  "nbformat_minor": 0,
  "metadata": {
    "colab": {
      "provenance": []
    },
    "kernelspec": {
      "name": "python3",
      "display_name": "Python 3"
    },
    "language_info": {
      "name": "python"
    }
  },
  "cells": [
    {
      "cell_type": "code",
      "source": [
        "import numpy as np\n",
        "import pandas as pd\n",
        "import tensorflow as tf\n",
        "from tensorflow.keras.preprocessing.text import Tokenizer\n",
        "from tensorflow.keras.preprocessing.sequence import pad_sequences\n",
        "from tensorflow.keras.models import Sequential\n",
        "from tensorflow.keras.layers import Embedding, Conv1D, MaxPooling1D, GlobalMaxPooling1D, Dense\n",
        "from sklearn.model_selection import train_test_split\n",
        "from transformers import BertTokenizer, TFBertForSequenceClassification\n",
        "from transformers import InputExample, InputFeatures\n",
        "from transformers import BertTokenizer"
      ],
      "metadata": {
        "id": "mOcD1pGnPSf_"
      },
      "execution_count": 1,
      "outputs": []
    },
    {
      "cell_type": "code",
      "source": [
        "# loading dataset files\n",
        "train_df = pd.read_csv('train.tsv', delimiter='\\t', header=None)\n",
        "valid_df = pd.read_csv('valid.tsv', delimiter='\\t', header=None)\n",
        "test_df = pd.read_csv('test.tsv', delimiter='\\t', header=None)\n",
        "\n",
        "print(\"unique labels training data:\", train_df[1].unique())"
      ],
      "metadata": {
        "colab": {
          "base_uri": "https://localhost:8080/"
        },
        "id": "aMSU_P6pPivW",
        "outputId": "40e7d8c3-05a5-465d-eece-a0e846db214a"
      },
      "execution_count": 2,
      "outputs": [
        {
          "output_type": "stream",
          "name": "stdout",
          "text": [
            "unique labels training data: ['false' 'half-true' 'mostly-true' 'true' 'barely-true' 'pants-fire']\n"
          ]
        }
      ]
    },
    {
      "cell_type": "code",
      "source": [
        "# Map labels to integers\n",
        "label_mapping = {\n",
        "    'false': 0,\n",
        "    'half-true': 0,\n",
        "    'mostly-true': 1,\n",
        "    'true': 1,\n",
        "    'barely-true': 0,\n",
        "    'pants-fire': 0\n",
        "}\n",
        "\n",
        "train_df[1] = train_df[1].map(label_mapping)\n",
        "valid_df[1] = valid_df[1].map(label_mapping)\n",
        "test_df[1] = test_df[1].map(label_mapping)\n",
        "\n",
        "# dropping NANs just in case\n",
        "train_df.dropna(subset=[1], inplace=True)\n",
        "valid_df.dropna(subset=[1], inplace=True)\n",
        "test_df.dropna(subset=[1], inplace=True)\n",
        "\n",
        "# extract labels and text after cleaning data\n",
        "train_texts = train_df[2].astype(str).values\n",
        "train_labels = train_df[1].astype(int).values\n",
        "valid_texts = valid_df[2].astype(str).values\n",
        "valid_labels = valid_df[1].astype(int).values\n",
        "test_texts = test_df[2].astype(str).values\n",
        "test_labels = test_df[1].astype(int).values\n",
        "\n"
      ],
      "metadata": {
        "id": "XRTdGcRlVPgA"
      },
      "execution_count": 3,
      "outputs": []
    },
    {
      "cell_type": "code",
      "source": [
        "# sequence padding and tokenising > after extracting texts and labels\n",
        "tokenizer = Tokenizer(num_words=10000, oov_token=\"<OOV>\")\n",
        "tokenizer.fit_on_texts(train_texts)\n",
        "\n",
        "train_sequences = tokenizer.texts_to_sequences(train_texts)\n",
        "valid_sequences = tokenizer.texts_to_sequences(valid_texts)\n",
        "test_sequences = tokenizer.texts_to_sequences(test_texts)\n",
        "\n",
        "train_padded = pad_sequences(train_sequences, maxlen=100, padding='post', truncating='post')\n",
        "valid_padded = pad_sequences(valid_sequences, maxlen=100, padding='post', truncating='post')\n",
        "test_padded = pad_sequences(test_sequences, maxlen=100, padding='post', truncating='post')\n"
      ],
      "metadata": {
        "id": "tG4lArQuV6Jb"
      },
      "execution_count": 4,
      "outputs": []
    },
    {
      "cell_type": "code",
      "source": [
        "# Diagnostic: Check if any padded sequences are zeros\n",
        "print(\"Zero-length train sequences:\", np.sum(np.sum(train_padded, axis=1) == 0))\n",
        "print(\"Zero-length valid sequences:\", np.sum(np.sum(valid_padded, axis=1) == 0))\n",
        "print(\"Zero-length test sequences:\", np.sum(np.sum(test_padded, axis=1) == 0))\n"
      ],
      "metadata": {
        "colab": {
          "base_uri": "https://localhost:8080/"
        },
        "id": "HEKxZOOapZ5S",
        "outputId": "c77d338a-520c-455d-ebed-4795f2ed48d9"
      },
      "execution_count": 6,
      "outputs": [
        {
          "output_type": "stream",
          "name": "stdout",
          "text": [
            "Zero-length train sequences: 0\n",
            "Zero-length valid sequences: 0\n",
            "Zero-length test sequences: 0\n"
          ]
        }
      ]
    },
    {
      "cell_type": "code",
      "source": [
        "# defining CNNs model for training and validating\n",
        "model = Sequential([\n",
        "    Embedding(input_dim=10000, output_dim=64, input_length=100),\n",
        "    Conv1D(128, 5, activation='relu'),\n",
        "    MaxPooling1D(5),\n",
        "    Conv1D(128, 5, activation='relu'),\n",
        "    GlobalMaxPooling1D(),\n",
        "    Dense(24, activation='relu'),\n",
        "    Dense(1, activation='sigmoid')\n",
        "])\n",
        "\n",
        "model.compile(loss='binary_crossentropy', optimizer='adam', metrics=['accuracy'])\n",
        "model.summary()"
      ],
      "metadata": {
        "colab": {
          "base_uri": "https://localhost:8080/"
        },
        "id": "SKNTy-i0aJi6",
        "outputId": "4fd95962-65a3-4915-e37e-9f94f29c0974"
      },
      "execution_count": 7,
      "outputs": [
        {
          "output_type": "stream",
          "name": "stdout",
          "text": [
            "Model: \"sequential\"\n",
            "_________________________________________________________________\n",
            " Layer (type)                Output Shape              Param #   \n",
            "=================================================================\n",
            " embedding (Embedding)       (None, 100, 64)           640000    \n",
            "                                                                 \n",
            " conv1d (Conv1D)             (None, 96, 128)           41088     \n",
            "                                                                 \n",
            " max_pooling1d (MaxPooling1  (None, 19, 128)           0         \n",
            " D)                                                              \n",
            "                                                                 \n",
            " conv1d_1 (Conv1D)           (None, 15, 128)           82048     \n",
            "                                                                 \n",
            " global_max_pooling1d (Glob  (None, 128)               0         \n",
            " alMaxPooling1D)                                                 \n",
            "                                                                 \n",
            " dense (Dense)               (None, 24)                3096      \n",
            "                                                                 \n",
            " dense_1 (Dense)             (None, 1)                 25        \n",
            "                                                                 \n",
            "=================================================================\n",
            "Total params: 766257 (2.92 MB)\n",
            "Trainable params: 766257 (2.92 MB)\n",
            "Non-trainable params: 0 (0.00 Byte)\n",
            "_________________________________________________________________\n"
          ]
        }
      ]
    },
    {
      "cell_type": "code",
      "source": [
        "# train CNNs Model and evaluate it\n",
        "history = model.fit(\n",
        "    train_padded, train_labels,\n",
        "    epochs=10,\n",
        "    validation_data=(valid_padded, valid_labels),\n",
        "    verbose=2\n",
        ")\n",
        "\n",
        "results = model.evaluate(test_padded, test_labels, verbose=2)\n",
        "print(f\"Test Loss: {results[0]}, Test Accuracy: {results[1]}\")\n"
      ],
      "metadata": {
        "colab": {
          "base_uri": "https://localhost:8080/"
        },
        "id": "k8Tvh2RKa6KB",
        "outputId": "17ade49f-dad5-4324-ffa2-79a0d9924e50"
      },
      "execution_count": 8,
      "outputs": [
        {
          "output_type": "stream",
          "name": "stdout",
          "text": [
            "Epoch 1/10\n",
            "320/320 - 12s - loss: 0.6437 - accuracy: 0.6439 - val_loss: 0.5995 - val_accuracy: 0.6729 - 12s/epoch - 38ms/step\n",
            "Epoch 2/10\n",
            "320/320 - 10s - loss: 0.5600 - accuracy: 0.7021 - val_loss: 0.6033 - val_accuracy: 0.6822 - 10s/epoch - 31ms/step\n",
            "Epoch 3/10\n",
            "320/320 - 10s - loss: 0.3710 - accuracy: 0.8374 - val_loss: 0.7670 - val_accuracy: 0.6488 - 10s/epoch - 32ms/step\n",
            "Epoch 4/10\n",
            "320/320 - 11s - loss: 0.1104 - accuracy: 0.9609 - val_loss: 1.2219 - val_accuracy: 0.6347 - 11s/epoch - 33ms/step\n",
            "Epoch 5/10\n",
            "320/320 - 10s - loss: 0.0223 - accuracy: 0.9940 - val_loss: 1.6718 - val_accuracy: 0.6145 - 10s/epoch - 32ms/step\n",
            "Epoch 6/10\n",
            "320/320 - 10s - loss: 0.0047 - accuracy: 0.9991 - val_loss: 1.9825 - val_accuracy: 0.6301 - 10s/epoch - 30ms/step\n",
            "Epoch 7/10\n",
            "320/320 - 10s - loss: 0.0035 - accuracy: 0.9996 - val_loss: 2.0265 - val_accuracy: 0.6301 - 10s/epoch - 31ms/step\n",
            "Epoch 8/10\n",
            "320/320 - 10s - loss: 0.0035 - accuracy: 0.9995 - val_loss: 2.1139 - val_accuracy: 0.6293 - 10s/epoch - 32ms/step\n",
            "Epoch 9/10\n",
            "320/320 - 10s - loss: 0.0032 - accuracy: 0.9996 - val_loss: 2.1037 - val_accuracy: 0.6308 - 10s/epoch - 32ms/step\n",
            "Epoch 10/10\n",
            "320/320 - 11s - loss: 0.0040 - accuracy: 0.9996 - val_loss: 2.0840 - val_accuracy: 0.6363 - 11s/epoch - 33ms/step\n",
            "40/40 - 0s - loss: 2.1593 - accuracy: 0.6409 - 307ms/epoch - 8ms/step\n",
            "Test Loss: 2.159266471862793, Test Accuracy: 0.6408839821815491\n"
          ]
        }
      ]
    }
  ]
}
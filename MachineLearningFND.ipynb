{
  "nbformat": 4,
  "nbformat_minor": 0,
  "metadata": {
    "colab": {
      "provenance": []
    },
    "kernelspec": {
      "name": "python3",
      "display_name": "Python 3"
    },
    "language_info": {
      "name": "python"
    }
  },
  "cells": [
    {
      "cell_type": "code",
      "execution_count": 2,
      "metadata": {
        "colab": {
          "base_uri": "https://localhost:8080/"
        },
        "id": "4tcSZWA7fINu",
        "outputId": "8fc8ecc2-9f59-4f1b-c5db-9f2545373d38"
      },
      "outputs": [
        {
          "output_type": "stream",
          "name": "stderr",
          "text": [
            "[nltk_data] Downloading package punkt to /root/nltk_data...\n",
            "[nltk_data]   Package punkt is already up-to-date!\n",
            "[nltk_data] Downloading package stopwords to /root/nltk_data...\n",
            "[nltk_data]   Package stopwords is already up-to-date!\n"
          ]
        }
      ],
      "source": [
        "import pandas as pd\n",
        "import re\n",
        "from nltk.tokenize import word_tokenize\n",
        "from nltk.corpus import stopwords\n",
        "import nltk\n",
        "from sklearn.feature_extraction.text import TfidfVectorizer\n",
        "nltk.download('punkt')\n",
        "nltk.download('stopwords')\n",
        "from sklearn.metrics import accuracy_score, classification_report\n",
        "\n",
        "# data preprocessing section\n",
        "\n",
        "training_data = '/content/train.tsv'\n",
        "valid_data = '/content/valid.tsv'\n",
        "testing_data = '/content/test.tsv'\n",
        "\n",
        "# defining the function to clean the text data\n",
        "def data_preprocessing(text):\n",
        "    text = text.lower()\n",
        "    text = re.sub(r'\\W', ' ', text)\n",
        "    text = re.sub(r'\\s+', ' ', text)\n",
        "    words = word_tokenize(text)\n",
        "    words = [word for word in words if word not in stopwords.words('english')]\n",
        "    return ' '.join(words)\n",
        "\n",
        "def load_and_preprocess_data(dataset):\n",
        "    df = pd.read_csv(dataset, delimiter='\\t', header=None, names=[\n",
        "        'ID', 'label', 'statement', 'subject', 'speaker', \"speaker's job title\", 'state info', 'party affiliation',\n",
        "        'total credit history count', 'barely true counts', 'false counts', 'half true counts',\n",
        "        'mostly true counts', 'pants on fire counts', 'context'])\n",
        "\n",
        "\n",
        "    df.fillna('Unknown', inplace=True)\n",
        "    df.drop_duplicates(inplace=True)\n",
        "\n",
        "\n",
        "    df['processed_statement'] = df['statement'].apply(data_preprocessing)\n",
        "\n",
        "    return df\n",
        "\n",
        "\n",
        "train_df = load_and_preprocess_data(training_data)\n",
        "valid_df = load_and_preprocess_data(valid_data)\n",
        "test_df = load_and_preprocess_data(testing_data)\n",
        "\n"
      ]
    },
    {
      "cell_type": "code",
      "source": [
        "# Initialise a TF-IDF Vectoriser and fit it on the training data\n",
        "vectorizer = TfidfVectorizer(max_features=1000)  # limit the number of features to 1000\n",
        "X_train = vectorizer.fit_transform(train_df['processed_statement']).toarray()\n",
        "\n",
        "# Transforming the validation and test data using the same vectoriser\n",
        "X_valid = vectorizer.transform(valid_df['processed_statement']).toarray()\n",
        "X_test = vectorizer.transform(test_df['processed_statement']).toarray()\n",
        "\n",
        "# Extract labels\n",
        "y_train = train_df['label']\n",
        "y_valid = valid_df['label']\n",
        "y_test = test_df['label']"
      ],
      "metadata": {
        "id": "e6ERnr8FjLvl"
      },
      "execution_count": 3,
      "outputs": []
    },
    {
      "cell_type": "code",
      "source": [
        "from sklearn.linear_model import LogisticRegression\n",
        "from sklearn.ensemble import RandomForestClassifier\n",
        "from sklearn.naive_bayes import MultinomialNB\n",
        "from sklearn.metrics import accuracy_score, classification_report\n",
        "import matplotlib.pyplot as plt\n",
        "\n",
        "# initialising the chosen machine learning models\n",
        "\n",
        "LR = LogisticRegression()\n",
        "RF = RandomForestClassifier()\n",
        "MNB = MultinomialNB()\n",
        "\n",
        "# training the models where x_train means features and y_train means labels\n",
        "\n",
        "LR.fit(X_train, y_train)\n",
        "RF.fit(X_train, y_train)\n",
        "MNB.fit(X_train, y_train)\n",
        "\n",
        "# evaluating the models and collecting the accuracy of each model\n",
        "\n",
        "model_accuracies = {}\n",
        "\n",
        "for model in (LR, RF, MNB):\n",
        "    y_predict = model.predict(X_test)\n",
        "    accuracy = accuracy_score(y_test, y_predict)\n",
        "    model_accuracies[model.__class__.__name__] = accuracy\n",
        "    print(f\"Model: {model.__class__.__name__}\")\n",
        "    print(f\"Accuracy: {accuracy}\")\n",
        "    print(classification_report(y_test, y_predict))\n",
        "    print(\"-\" * 80)\n",
        "\n",
        "# Plotting\n",
        "models = list(model_accuracies.keys())\n",
        "accuracies = list(model_accuracies.values())\n",
        "plt.figure(figsize=(6, 3))\n",
        "plt.bar(models, accuracies, color=['#aec6cf', '#ffb6c1', '#77dd77'])\n",
        "plt.xlabel('Model')\n",
        "plt.ylabel('Accuracy Measure')\n",
        "plt.title('Comparison of ML Models Accuracies in FakeNews Detection')\n",
        "plt.ylim([0, 1])\n",
        "plt.show()"
      ],
      "metadata": {
        "colab": {
          "base_uri": "https://localhost:8080/",
          "height": 1000
        },
        "id": "iaG12CcuWF0L",
        "outputId": "dedfddfd-5bbf-431f-81a3-a91ef2443284"
      },
      "execution_count": 4,
      "outputs": [
        {
          "output_type": "stream",
          "name": "stderr",
          "text": [
            "/usr/local/lib/python3.10/dist-packages/sklearn/linear_model/_logistic.py:458: ConvergenceWarning: lbfgs failed to converge (status=1):\n",
            "STOP: TOTAL NO. of ITERATIONS REACHED LIMIT.\n",
            "\n",
            "Increase the number of iterations (max_iter) or scale the data as shown in:\n",
            "    https://scikit-learn.org/stable/modules/preprocessing.html\n",
            "Please also refer to the documentation for alternative solver options:\n",
            "    https://scikit-learn.org/stable/modules/linear_model.html#logistic-regression\n",
            "  n_iter_i = _check_optimize_result(\n"
          ]
        },
        {
          "output_type": "stream",
          "name": "stdout",
          "text": [
            "Model: LogisticRegression\n",
            "Accuracy: 0.23204419889502761\n",
            "              precision    recall  f1-score   support\n",
            "\n",
            " barely-true       0.26      0.20      0.22       212\n",
            "       false       0.23      0.26      0.24       249\n",
            "   half-true       0.24      0.29      0.27       265\n",
            " mostly-true       0.22      0.24      0.23       241\n",
            "  pants-fire       0.11      0.03      0.05        92\n",
            "        true       0.23      0.23      0.23       208\n",
            "\n",
            "    accuracy                           0.23      1267\n",
            "   macro avg       0.21      0.21      0.21      1267\n",
            "weighted avg       0.23      0.23      0.23      1267\n",
            "\n",
            "--------------------------------------------------------------------------------\n",
            "Model: RandomForestClassifier\n",
            "Accuracy: 0.2249408050513023\n",
            "              precision    recall  f1-score   support\n",
            "\n",
            " barely-true       0.27      0.18      0.22       212\n",
            "       false       0.24      0.30      0.27       249\n",
            "   half-true       0.23      0.27      0.25       265\n",
            " mostly-true       0.19      0.25      0.22       241\n",
            "  pants-fire       0.10      0.03      0.05        92\n",
            "        true       0.24      0.18      0.20       208\n",
            "\n",
            "    accuracy                           0.22      1267\n",
            "   macro avg       0.21      0.20      0.20      1267\n",
            "weighted avg       0.22      0.22      0.22      1267\n",
            "\n",
            "--------------------------------------------------------------------------------\n",
            "Model: MultinomialNB\n",
            "Accuracy: 0.23362273086029992\n",
            "              precision    recall  f1-score   support\n",
            "\n",
            " barely-true       0.23      0.14      0.17       212\n",
            "       false       0.20      0.25      0.23       249\n",
            "   half-true       0.24      0.35      0.28       265\n",
            " mostly-true       0.24      0.31      0.27       241\n",
            "  pants-fire       0.00      0.00      0.00        92\n",
            "        true       0.26      0.18      0.21       208\n",
            "\n",
            "    accuracy                           0.23      1267\n",
            "   macro avg       0.20      0.20      0.19      1267\n",
            "weighted avg       0.22      0.23      0.22      1267\n",
            "\n",
            "--------------------------------------------------------------------------------\n"
          ]
        },
        {
          "output_type": "display_data",
          "data": {
            "text/plain": [
              "<Figure size 600x300 with 1 Axes>"
            ],
            "image/png": "[encoded data removed]"
          },
          "metadata": {}
        }
      ]
    },
    {
      "cell_type": "code",
      "source": [
        "print(classification_report(y_test, y_predict))"
      ],
      "metadata": {
        "colab": {
          "base_uri": "https://localhost:8080/"
        },
        "id": "3DW_3P4LRDi9",
        "outputId": "bdab7632-7680-47f3-e320-b6dd7fd36550"
      },
      "execution_count": 5,
      "outputs": [
        {
          "output_type": "stream",
          "name": "stdout",
          "text": [
            "              precision    recall  f1-score   support\n",
            "\n",
            " barely-true       0.23      0.14      0.17       212\n",
            "       false       0.20      0.25      0.23       249\n",
            "   half-true       0.24      0.35      0.28       265\n",
            " mostly-true       0.24      0.31      0.27       241\n",
            "  pants-fire       0.00      0.00      0.00        92\n",
            "        true       0.26      0.18      0.21       208\n",
            "\n",
            "    accuracy                           0.23      1267\n",
            "   macro avg       0.20      0.20      0.19      1267\n",
            "weighted avg       0.22      0.23      0.22      1267\n",
            "\n"
          ]
        }
      ]
    }
  ]
}